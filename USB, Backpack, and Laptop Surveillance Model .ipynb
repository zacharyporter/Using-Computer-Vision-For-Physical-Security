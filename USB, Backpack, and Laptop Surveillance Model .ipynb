{
 "cells": [
  {
   "cell_type": "code",
   "execution_count": null,
   "id": "dadf9061",
   "metadata": {},
   "outputs": [],
   "source": [
    "import torch\n",
    "from matplotlib import pyplot as plt\n",
    "import numpy as np\n",
    "import cv2\n",
    "import uuid  \n",
    "import os\n",
    "import time\n",
    "import pandas"
   ]
  },
  {
   "cell_type": "code",
   "execution_count": null,
   "id": "87e33717",
   "metadata": {
    "scrolled": true
   },
   "outputs": [],
   "source": [
    "#Loading the model \n",
    "model = torch.hub.load('ultralytics/yolov5', 'custom', path='yolov5/runs/train/exp16/weights/last.pt', force_reload=True)"
   ]
  },
  {
   "cell_type": "code",
   "execution_count": null,
   "id": "6dd7e6b4",
   "metadata": {},
   "outputs": [],
   "source": [
    "classes = {0: 'person', 1: 'bicycle', 2: 'car', 3: 'motorcycle', 4: 'airplane', \n",
    "           5: 'bus', 6: 'train', 7: 'truck', 8: 'boat', 9: 'traffic light', \n",
    "           10: 'fire hydrant', 11: 'stop sign', 12: 'parking meter', 13: 'bench', \n",
    "           14: 'bird', 15: 'backpack', 16: 'laptop', 17: 'USB'}\n",
    "#Minimum Confidence of the detection \n",
    "min_conf = 0.3 \n",
    "\n",
    "#Sending alerts for object detected. \n",
    "def send_Alert(object_class):\n",
    "    print(f\"ALERT: {object_class} detected!\")\n",
    "    \n",
    "#switching indexes for labels \n",
    "model.names[15] = \"backpack\"\n",
    "model.names[17] = \"USB\"\n",
    "#model.names"
   ]
  },
  {
   "cell_type": "code",
   "execution_count": null,
   "id": "39f291fa",
   "metadata": {},
   "outputs": [],
   "source": [
    "##Outputting the Detections FINAL \n",
    "import datetime\n",
    "\n",
    "\n",
    "log_file = open(\"detection_log.txt\", \"a\")\n",
    "# LiveIMG Capture. \n",
    "cap = cv2.VideoCapture(0)\n",
    "while cap.isOpened():\n",
    "    ret, frame = cap.read()\n",
    "    \n",
    "    # Make detections \n",
    "    results = model(frame)\n",
    "\n",
    "    for r in results.pred[0]:\n",
    "        class_id = int(r[-1])\n",
    "        class_name =''\n",
    "    \n",
    "    #Getting Current Date and Time and formatting\n",
    "        current_time = datetime.datetime.now()\n",
    "        time_string = current_time.strftime(\"%Y-%m-%d %H:%M:%S\")\n",
    "        \n",
    "        if class_id == 15:\n",
    "            print(\"Backpack Is Detected\")\n",
    "            with open(\"detection_log.txt\", \"a\") as log_file:\n",
    "                log_file.write(time_string + \" - Backpack is detected!\\n\") \n",
    "                \n",
    "        elif class_id == 16:\n",
    "            print(\"Laptop is detected\")\n",
    "            with open(\"detection_log.txt\", \"a\") as log_file:\n",
    "                log_file.write(time_string + \" - Laptop is detected!\\n\")\n",
    "                \n",
    "        elif class_id == 17:\n",
    "            print(\"USB is detected\")\n",
    "            with open(\"detection_log.txt\", \"a\") as log_file:\n",
    "                log_file.write(time_string + \" - USB is detected\\n\")\n",
    "        \n",
    "        print(f\"Detection result: {r}\")\n",
    "            \n",
    "        \n",
    "    cv2.imshow('YOLO', np.squeeze(results.render()))\n",
    "    \n",
    "    if cv2.waitKey(10) & 0xFF == ord('q'):\n",
    "        break\n",
    "        \n",
    "cap.release()\n",
    "cv2.destroyAllWindows()\n"
   ]
  },
  {
   "cell_type": "code",
   "execution_count": null,
   "id": "1232fc42",
   "metadata": {},
   "outputs": [],
   "source": []
  }
 ],
 "metadata": {
  "kernelspec": {
   "display_name": "custom",
   "language": "python",
   "name": "custom"
  },
  "language_info": {
   "codemirror_mode": {
    "name": "ipython",
    "version": 3
   },
   "file_extension": ".py",
   "mimetype": "text/x-python",
   "name": "python",
   "nbconvert_exporter": "python",
   "pygments_lexer": "ipython3",
   "version": "3.9.13"
  }
 },
 "nbformat": 4,
 "nbformat_minor": 5
}
