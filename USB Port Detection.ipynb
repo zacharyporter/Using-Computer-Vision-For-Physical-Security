{
 "cells": [
  {
   "cell_type": "code",
   "execution_count": null,
   "id": "f2f6e68a",
   "metadata": {},
   "outputs": [],
   "source": [
    "import torch\n",
    "from matplotlib import pyplot as plt\n",
    "import numpy as np\n",
    "import cv2\n",
    "import uuid   # Unique identifier\n",
    "import os\n",
    "import time\n",
    "import datetime\n",
    "min_conf = .5"
   ]
  },
  {
   "cell_type": "code",
   "execution_count": null,
   "id": "c4af908f",
   "metadata": {},
   "outputs": [],
   "source": [
    "#Loading my trained Port Detection Model. "
   ]
  },
  {
   "cell_type": "code",
   "execution_count": null,
   "id": "13dc2f65",
   "metadata": {},
   "outputs": [],
   "source": [
    "model = torch.hub.load('ultralytics/yolov5', 'custom', path='yolov5/runs/train/exp/weights/last.pt', force_reload=True)"
   ]
  },
  {
   "cell_type": "code",
   "execution_count": null,
   "id": "3e49374d",
   "metadata": {},
   "outputs": [],
   "source": [
    "##Opening the USB Log File \n",
    "log_USB = open(\"USB_log.txt\", 'a')\n",
    "\n",
    "#Using OpenCV to capture feed as input\n",
    "cap = cv2.VideoCapture(0)\n",
    "\n",
    "# Initialize the state to 'UNKNOWN'\n",
    "current_state = 'UNKNOWN'\n",
    "\n",
    "while cap.isOpened():\n",
    "    ret, frame = cap.read()\n",
    "    \n",
    "    # Make detections \n",
    "    results = model(frame)\n",
    "    \n",
    "    # Check if a USB is detected\n",
    "    usb_detected = False\n",
    "    for r in results.pred[0]:\n",
    "        class_id = int(r[-1])\n",
    "        if class_id == 16:\n",
    "            usb_detected = True\n",
    "            break\n",
    "    \n",
    "    # Update the current state based on the detection\n",
    "    if usb_detected and current_state != 'USB':\n",
    "        current_state = 'USB'\n",
    "        current_time = datetime.datetime.now()\n",
    "        time_string = current_time.strftime(\"%Y-%m-%d %H:%M:%S\")\n",
    "        print(\"USB is Detected\")\n",
    "        log_USB.write(time_string + \" - USB is Detected!\\n\") \n",
    "        \n",
    "    #If the state of the detected object changes to Ports_Open It will be logged\n",
    "    elif not usb_detected and current_state != 'NO_USB':\n",
    "        current_state = 'NO_USB'\n",
    "        current_time = datetime.datetime.now()\n",
    "        time_string = current_time.strftime(\"%Y-%m-%d %H:%M:%S\")\n",
    "        print(\"Ports are Open\")\n",
    "        log_USB.write(time_string + \" - Ports are Open!\\n\") \n",
    "\n",
    "    cv2.imshow('YOLO', np.squeeze(results.render()))\n",
    "    \n",
    "    if cv2.waitKey(10) & 0xFF == ord('q'):\n",
    "        break\n",
    "\n",
    "log_USB.close() \n",
    "cap.release()\n",
    "cv2.destroyAllWindows()\n"
   ]
  },
  {
   "cell_type": "code",
   "execution_count": null,
   "id": "a7ec7f2a",
   "metadata": {},
   "outputs": [],
   "source": []
  }
 ],
 "metadata": {
  "kernelspec": {
   "display_name": "USB",
   "language": "python",
   "name": "usb"
  },
  "language_info": {
   "codemirror_mode": {
    "name": "ipython",
    "version": 3
   },
   "file_extension": ".py",
   "mimetype": "text/x-python",
   "name": "python",
   "nbconvert_exporter": "python",
   "pygments_lexer": "ipython3",
   "version": "3.9.13"
  }
 },
 "nbformat": 4,
 "nbformat_minor": 5
}
